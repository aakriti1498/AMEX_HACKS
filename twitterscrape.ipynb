{
 "cells": [
  {
   "cell_type": "code",
   "execution_count": 44,
   "metadata": {},
   "outputs": [],
   "source": [
    "from selenium import webdriver\n",
    "from selenium.webdriver.common.keys import Keys\n",
    "import os\n",
    "import time\n",
    "class SeleniumClient(object):\n",
    "    def __init__(self):\n",
    "        #Initialization method. \n",
    "        self.chrome_options = webdriver.ChromeOptions()\n",
    "        self.chrome_options.add_argument('--headless')\n",
    "        self.chrome_options.add_argument('--no-sandbox')\n",
    "        self.chrome_options.add_argument('--disable-setuid-sandbox')\n",
    "        self.chrome_options.add_argument(\"start-maximized\")\n",
    "        self.chrome_options.add_argument(\"disable-infobars\")\n",
    "        self.chrome_options.add_argument(\"--disable-extensions\")\n",
    "\n",
    "        # you need to provide the path of chromdriver in your system\n",
    "    \n",
    "\n",
    "        chromedriver = \"C:/Users/ManasiAdmin/chromedriver\"\n",
    "        os.environ[\"webdriver.chrome.driver\"] = chromedriver\n",
    "       \n",
    "        \n",
    "        self.driver = webdriver.Chrome(chromedriver)\n",
    "        #driver.get(\"https://twitter.com/search?q=amex\")\n",
    "        #time.sleep(10)\n",
    "        #driver.quit()\n",
    "\n",
    "        \n",
    "        #self.browser = webdriver.Chrome('C:/Users/ManasiAdmin/chromedriver', options=self.chrome_options)\n",
    "\n",
    "        self.base_url = 'https://twitter.com/search?q='\n",
    "\n",
    "    def get_tweets(self, query):\n",
    "        ''' \n",
    "        Function to fetch tweets. \n",
    "        '''\n",
    "        try: \n",
    "            self.driver.get(self.base_url+query)\n",
    "            time.sleep(10)\n",
    "\n",
    "            body = self.driver.find_element_by_tag_name('body')\n",
    "\n",
    "            for _ in range(30):\n",
    "                body.send_keys(Keys.PAGE_DOWN)\n",
    "                time.sleep(0.3)\n",
    "\n",
    "            timeline = self.driver.find_element_by_id('timeline')\n",
    "            #tweet_nodes = timeline.find_elements_by_css_selector('.tweet-text')\n",
    "            tweet_nodes = timeline.find_elements_by_css_selector('[id^=\\\".tweet-text\\\"]')\n",
    "\n",
    "            return pd.DataFrame({'tweets': [tweet_node.text for tweet_node in tweet_nodes]})\n",
    "\n",
    "        except: \n",
    "            print(\"Selenium - An error occured while fetching tweets.\")"
   ]
  },
  {
   "cell_type": "code",
   "execution_count": 45,
   "metadata": {},
   "outputs": [
    {
     "name": "stdout",
     "output_type": "stream",
     "text": [
      "Selenium - An error occured while fetching tweets.\n"
     ]
    }
   ],
   "source": [
    "selenium_client = SeleniumClient()\n",
    "\n",
    "tweets_df = selenium_client.get_tweets('amex')"
   ]
  },
  {
   "cell_type": "code",
   "execution_count": 5,
   "metadata": {},
   "outputs": [],
   "source": [
    "import nltk\n",
    "from nltk.sentiment.vader import SentimentIntensityAnalyzer\n",
    "from textblob import TextBlob \n",
    "def fetch_sentiment_using_SIA(text):\n",
    "    sid = SentimentIntensityAnalyzer()\n",
    "    polarity_scores = sid.polarity_scores(text)\n",
    "    if polarity_scores['neg'] > polarity_scores['pos']:\n",
    "        return 'negative'\n",
    "    else:\n",
    "        return 'positive'\n",
    "\n",
    "def fetch_sentiment_using_textblob(text):\n",
    "    analysis = TextBlob(text)\n",
    "    # set sentiment \n",
    "    if analysis.sentiment.polarity >= 0:\n",
    "        return 'positive'\n",
    "    else: \n",
    "        return 'negative'"
   ]
  },
  {
   "cell_type": "code",
   "execution_count": 10,
   "metadata": {},
   "outputs": [
    {
     "ename": "NameError",
     "evalue": "name 'np' is not defined",
     "output_type": "error",
     "traceback": [
      "\u001b[1;31m---------------------------------------------------------------------------\u001b[0m",
      "\u001b[1;31mNameError\u001b[0m                                 Traceback (most recent call last)",
      "\u001b[1;32m<ipython-input-10-526dea991499>\u001b[0m in \u001b[0;36m<module>\u001b[1;34m()\u001b[0m\n\u001b[0;32m      6\u001b[0m     \u001b[1;32mreturn\u001b[0m \u001b[0mtext\u001b[0m\u001b[1;33m\u001b[0m\u001b[0m\n\u001b[0;32m      7\u001b[0m \u001b[1;31m# We are keeping cleaned tweets in a new column called 'tidy_tweets'\u001b[0m\u001b[1;33m\u001b[0m\u001b[1;33m\u001b[0m\u001b[0m\n\u001b[1;32m----> 8\u001b[1;33m \u001b[0mtweets_df\u001b[0m\u001b[1;33m[\u001b[0m\u001b[1;34m'tidy_tweets'\u001b[0m\u001b[1;33m]\u001b[0m \u001b[1;33m=\u001b[0m \u001b[0mnp\u001b[0m\u001b[1;33m.\u001b[0m\u001b[0mvectorize\u001b[0m\u001b[1;33m(\u001b[0m\u001b[0mremove_pattern\u001b[0m\u001b[1;33m)\u001b[0m\u001b[1;33m(\u001b[0m\u001b[0mtweets_df\u001b[0m\u001b[1;33m[\u001b[0m\u001b[1;34m'tweets'\u001b[0m\u001b[1;33m]\u001b[0m\u001b[1;33m,\u001b[0m \u001b[1;34m\"@[\\w]*: | *RT*\"\u001b[0m\u001b[1;33m)\u001b[0m\u001b[1;33m\u001b[0m\u001b[0m\n\u001b[0m",
      "\u001b[1;31mNameError\u001b[0m: name 'np' is not defined"
     ]
    }
   ],
   "source": [
    "def remove_pattern(text, pattern_regex):\n",
    "    r = re.findall(pattern_regex, text)\n",
    "    for i in r:\n",
    "        text = re.sub(i, '', text)\n",
    "    \n",
    "    return text\n",
    "# We are keeping cleaned tweets in a new column called 'tidy_tweets'\n",
    "tweets_df['tidy_tweets'] = np.vectorize(remove_pattern)(tweets_df['tweets'], \"@[\\w]*: | *RT*\")"
   ]
  }
 ],
 "metadata": {
  "kernelspec": {
   "display_name": "Python 3",
   "language": "python",
   "name": "python3"
  },
  "language_info": {
   "codemirror_mode": {
    "name": "ipython",
    "version": 3
   },
   "file_extension": ".py",
   "mimetype": "text/x-python",
   "name": "python",
   "nbconvert_exporter": "python",
   "pygments_lexer": "ipython3",
   "version": "3.6.5"
  }
 },
 "nbformat": 4,
 "nbformat_minor": 2
}
